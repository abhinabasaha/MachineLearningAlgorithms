{
 "cells": [
  {
   "cell_type": "markdown",
   "metadata": {},
   "source": [
    "# Xgboost: with CPU and GPU support\n",
    "\n",
    "(Also Comparison with random forest)"
   ]
  },
  {
   "cell_type": "markdown",
   "metadata": {},
   "source": [
    "### Necessary libraries"
   ]
  },
  {
   "cell_type": "code",
   "execution_count": 1,
   "metadata": {},
   "outputs": [],
   "source": [
    "from xgboost import XGBClassifier\n",
    "from sklearn.ensemble import RandomForestClassifier"
   ]
  },
  {
   "cell_type": "code",
   "execution_count": 2,
   "metadata": {},
   "outputs": [],
   "source": [
    "import pandas as pd\n",
    "import numpy as np\n",
    "import time\n",
    "import matplotlib.pyplot as plt\n",
    "import matplotlib as mpl\n",
    "import matplotlib.patches as mpatches\n",
    "from matplotlib.ticker import NullFormatter\n",
    "\n",
    "from sklearn import datasets\n",
    "from sklearn.model_selection import train_test_split, cross_val_score\n",
    "from sklearn.metrics import accuracy_score, mean_absolute_error, f1_score, precision_score, recall_score\n",
    "from sklearn.datasets import fetch_openml\n",
    "from sklearn import preprocessing\n",
    "\n",
    "import seaborn as sns\n",
    "sns.set(context='notebook',\n",
    "        style='whitegrid',\n",
    "        palette='deep',\n",
    "        font='sans-serif',\n",
    "        font_scale=1,\n",
    "        color_codes=True,\n",
    "        rc=None)"
   ]
  },
  {
   "cell_type": "markdown",
   "metadata": {},
   "source": [
    "# Data"
   ]
  },
  {
   "cell_type": "code",
   "execution_count": 3,
   "metadata": {},
   "outputs": [
    {
     "name": "stdout",
     "output_type": "stream",
     "text": [
      "(70000, 784)\n",
      "(60000, 784)\n",
      "(10000, 784)\n",
      "Wall time: 20.5 s\n"
     ]
    }
   ],
   "source": [
    "%%time\n",
    "mnist = fetch_openml(\"mnist_784\")\n",
    "\n",
    "\n",
    "X_train, X_test, train_labels, test_labels = train_test_split(mnist.data,\n",
    "                            mnist.target,\n",
    "                            train_size = 6/7,\n",
    "                            stratify=mnist.target,\n",
    "                            random_state=42)\n",
    "\n",
    "y_train = train_labels.astype(int)\n",
    "y_test = test_labels.astype(int)\n",
    "\n",
    "classes = np.unique(mnist.target)   \n",
    "print(mnist.data.shape)\n",
    "print(X_train.shape)\n",
    "print(X_test.shape)"
   ]
  },
  {
   "cell_type": "markdown",
   "metadata": {},
   "source": [
    "# 1. Xgboost with CPU Support\n",
    "\n",
    "### **Here I will be using Intel i5-8300H, 4 cores, 8 threads, 2.3 GHz** "
   ]
  },
  {
   "cell_type": "code",
   "execution_count": 4,
   "metadata": {},
   "outputs": [
    {
     "name": "stdout",
     "output_type": "stream",
     "text": [
      "[0]\tvalidation_0-merror:0.13140\tvalidation_0-mlogloss:1.95596\tvalidation_1-merror:0.14920\tvalidation_1-mlogloss:1.96252\n",
      "Multiple eval metrics have been passed: 'validation_1-mlogloss' will be used for early stopping.\n",
      "\n",
      "Will train until validation_1-mlogloss hasn't improved in 10 rounds.\n",
      "[1]\tvalidation_0-merror:0.10327\tvalidation_0-mlogloss:1.71837\tvalidation_1-merror:0.11990\tvalidation_1-mlogloss:1.72993\n",
      "[2]\tvalidation_0-merror:0.08977\tvalidation_0-mlogloss:1.53488\tvalidation_1-merror:0.10610\tvalidation_1-mlogloss:1.55102\n",
      "[3]\tvalidation_0-merror:0.08257\tvalidation_0-mlogloss:1.38708\tvalidation_1-merror:0.10060\tvalidation_1-mlogloss:1.40728\n",
      "[4]\tvalidation_0-merror:0.07745\tvalidation_0-mlogloss:1.26284\tvalidation_1-merror:0.09740\tvalidation_1-mlogloss:1.28594\n",
      "[5]\tvalidation_0-merror:0.07437\tvalidation_0-mlogloss:1.15686\tvalidation_1-merror:0.09500\tvalidation_1-mlogloss:1.18283\n",
      "[6]\tvalidation_0-merror:0.07120\tvalidation_0-mlogloss:1.06405\tvalidation_1-merror:0.09240\tvalidation_1-mlogloss:1.09219\n",
      "[7]\tvalidation_0-merror:0.06788\tvalidation_0-mlogloss:0.98066\tvalidation_1-merror:0.08830\tvalidation_1-mlogloss:1.01062\n",
      "[8]\tvalidation_0-merror:0.06508\tvalidation_0-mlogloss:0.90721\tvalidation_1-merror:0.08400\tvalidation_1-mlogloss:0.93924\n",
      "[9]\tvalidation_0-merror:0.06278\tvalidation_0-mlogloss:0.84200\tvalidation_1-merror:0.08170\tvalidation_1-mlogloss:0.87645\n",
      "[10]\tvalidation_0-merror:0.06088\tvalidation_0-mlogloss:0.78358\tvalidation_1-merror:0.07850\tvalidation_1-mlogloss:0.81967\n",
      "[11]\tvalidation_0-merror:0.05852\tvalidation_0-mlogloss:0.73017\tvalidation_1-merror:0.07680\tvalidation_1-mlogloss:0.76775\n",
      "[12]\tvalidation_0-merror:0.05695\tvalidation_0-mlogloss:0.68190\tvalidation_1-merror:0.07500\tvalidation_1-mlogloss:0.72084\n",
      "[13]\tvalidation_0-merror:0.05512\tvalidation_0-mlogloss:0.63771\tvalidation_1-merror:0.07330\tvalidation_1-mlogloss:0.67826\n",
      "[14]\tvalidation_0-merror:0.05337\tvalidation_0-mlogloss:0.59798\tvalidation_1-merror:0.07250\tvalidation_1-mlogloss:0.64015\n",
      "[15]\tvalidation_0-merror:0.05172\tvalidation_0-mlogloss:0.56064\tvalidation_1-merror:0.07060\tvalidation_1-mlogloss:0.60420\n",
      "[16]\tvalidation_0-merror:0.05067\tvalidation_0-mlogloss:0.52719\tvalidation_1-merror:0.06900\tvalidation_1-mlogloss:0.57174\n",
      "[17]\tvalidation_0-merror:0.04890\tvalidation_0-mlogloss:0.49587\tvalidation_1-merror:0.06770\tvalidation_1-mlogloss:0.54175\n",
      "[18]\tvalidation_0-merror:0.04753\tvalidation_0-mlogloss:0.46709\tvalidation_1-merror:0.06700\tvalidation_1-mlogloss:0.51416\n",
      "[19]\tvalidation_0-merror:0.04640\tvalidation_0-mlogloss:0.44064\tvalidation_1-merror:0.06580\tvalidation_1-mlogloss:0.48894\n",
      "[20]\tvalidation_0-merror:0.04517\tvalidation_0-mlogloss:0.41640\tvalidation_1-merror:0.06520\tvalidation_1-mlogloss:0.46590\n",
      "[21]\tvalidation_0-merror:0.04392\tvalidation_0-mlogloss:0.39428\tvalidation_1-merror:0.06400\tvalidation_1-mlogloss:0.44471\n",
      "[22]\tvalidation_0-merror:0.04273\tvalidation_0-mlogloss:0.37357\tvalidation_1-merror:0.06340\tvalidation_1-mlogloss:0.42489\n",
      "[23]\tvalidation_0-merror:0.04147\tvalidation_0-mlogloss:0.35416\tvalidation_1-merror:0.06190\tvalidation_1-mlogloss:0.40667\n",
      "[24]\tvalidation_0-merror:0.04027\tvalidation_0-mlogloss:0.33653\tvalidation_1-merror:0.06160\tvalidation_1-mlogloss:0.38974\n",
      "[25]\tvalidation_0-merror:0.03867\tvalidation_0-mlogloss:0.31977\tvalidation_1-merror:0.06070\tvalidation_1-mlogloss:0.37395\n",
      "[26]\tvalidation_0-merror:0.03752\tvalidation_0-mlogloss:0.30430\tvalidation_1-merror:0.05930\tvalidation_1-mlogloss:0.35901\n",
      "[27]\tvalidation_0-merror:0.03628\tvalidation_0-mlogloss:0.28995\tvalidation_1-merror:0.05940\tvalidation_1-mlogloss:0.34555\n",
      "[28]\tvalidation_0-merror:0.03520\tvalidation_0-mlogloss:0.27633\tvalidation_1-merror:0.05870\tvalidation_1-mlogloss:0.33283\n",
      "[29]\tvalidation_0-merror:0.03408\tvalidation_0-mlogloss:0.26352\tvalidation_1-merror:0.05800\tvalidation_1-mlogloss:0.32053\n",
      "[30]\tvalidation_0-merror:0.03327\tvalidation_0-mlogloss:0.25162\tvalidation_1-merror:0.05710\tvalidation_1-mlogloss:0.30911\n",
      "[31]\tvalidation_0-merror:0.03222\tvalidation_0-mlogloss:0.24077\tvalidation_1-merror:0.05630\tvalidation_1-mlogloss:0.29863\n",
      "[32]\tvalidation_0-merror:0.03143\tvalidation_0-mlogloss:0.23050\tvalidation_1-merror:0.05620\tvalidation_1-mlogloss:0.28906\n",
      "[33]\tvalidation_0-merror:0.03050\tvalidation_0-mlogloss:0.22098\tvalidation_1-merror:0.05490\tvalidation_1-mlogloss:0.28005\n",
      "[34]\tvalidation_0-merror:0.02970\tvalidation_0-mlogloss:0.21197\tvalidation_1-merror:0.05380\tvalidation_1-mlogloss:0.27162\n",
      "[35]\tvalidation_0-merror:0.02892\tvalidation_0-mlogloss:0.20369\tvalidation_1-merror:0.05350\tvalidation_1-mlogloss:0.26394\n",
      "[36]\tvalidation_0-merror:0.02772\tvalidation_0-mlogloss:0.19543\tvalidation_1-merror:0.05310\tvalidation_1-mlogloss:0.25631\n",
      "[37]\tvalidation_0-merror:0.02693\tvalidation_0-mlogloss:0.18792\tvalidation_1-merror:0.05210\tvalidation_1-mlogloss:0.24912\n",
      "[38]\tvalidation_0-merror:0.02595\tvalidation_0-mlogloss:0.18068\tvalidation_1-merror:0.05180\tvalidation_1-mlogloss:0.24244\n",
      "[39]\tvalidation_0-merror:0.02520\tvalidation_0-mlogloss:0.17400\tvalidation_1-merror:0.05150\tvalidation_1-mlogloss:0.23623\n",
      "[40]\tvalidation_0-merror:0.02467\tvalidation_0-mlogloss:0.16757\tvalidation_1-merror:0.05090\tvalidation_1-mlogloss:0.23031\n",
      "[41]\tvalidation_0-merror:0.02412\tvalidation_0-mlogloss:0.16133\tvalidation_1-merror:0.05040\tvalidation_1-mlogloss:0.22439\n",
      "[42]\tvalidation_0-merror:0.02322\tvalidation_0-mlogloss:0.15580\tvalidation_1-merror:0.04950\tvalidation_1-mlogloss:0.21922\n",
      "[43]\tvalidation_0-merror:0.02262\tvalidation_0-mlogloss:0.15037\tvalidation_1-merror:0.04920\tvalidation_1-mlogloss:0.21411\n",
      "[44]\tvalidation_0-merror:0.02215\tvalidation_0-mlogloss:0.14529\tvalidation_1-merror:0.04880\tvalidation_1-mlogloss:0.20952\n",
      "[45]\tvalidation_0-merror:0.02152\tvalidation_0-mlogloss:0.14058\tvalidation_1-merror:0.04810\tvalidation_1-mlogloss:0.20527\n",
      "[46]\tvalidation_0-merror:0.02060\tvalidation_0-mlogloss:0.13585\tvalidation_1-merror:0.04750\tvalidation_1-mlogloss:0.20067\n",
      "[47]\tvalidation_0-merror:0.02008\tvalidation_0-mlogloss:0.13179\tvalidation_1-merror:0.04700\tvalidation_1-mlogloss:0.19697\n",
      "[48]\tvalidation_0-merror:0.01952\tvalidation_0-mlogloss:0.12785\tvalidation_1-merror:0.04680\tvalidation_1-mlogloss:0.19324\n",
      "[49]\tvalidation_0-merror:0.01875\tvalidation_0-mlogloss:0.12380\tvalidation_1-merror:0.04570\tvalidation_1-mlogloss:0.18959\n",
      "[50]\tvalidation_0-merror:0.01843\tvalidation_0-mlogloss:0.11995\tvalidation_1-merror:0.04550\tvalidation_1-mlogloss:0.18606\n",
      "[51]\tvalidation_0-merror:0.01793\tvalidation_0-mlogloss:0.11643\tvalidation_1-merror:0.04510\tvalidation_1-mlogloss:0.18250\n",
      "[52]\tvalidation_0-merror:0.01745\tvalidation_0-mlogloss:0.11297\tvalidation_1-merror:0.04440\tvalidation_1-mlogloss:0.17933\n",
      "[53]\tvalidation_0-merror:0.01700\tvalidation_0-mlogloss:0.10956\tvalidation_1-merror:0.04390\tvalidation_1-mlogloss:0.17618\n",
      "[54]\tvalidation_0-merror:0.01657\tvalidation_0-mlogloss:0.10639\tvalidation_1-merror:0.04350\tvalidation_1-mlogloss:0.17307\n",
      "[55]\tvalidation_0-merror:0.01608\tvalidation_0-mlogloss:0.10346\tvalidation_1-merror:0.04290\tvalidation_1-mlogloss:0.17031\n",
      "[56]\tvalidation_0-merror:0.01553\tvalidation_0-mlogloss:0.10058\tvalidation_1-merror:0.04290\tvalidation_1-mlogloss:0.16770\n",
      "[57]\tvalidation_0-merror:0.01515\tvalidation_0-mlogloss:0.09779\tvalidation_1-merror:0.04270\tvalidation_1-mlogloss:0.16512\n",
      "[58]\tvalidation_0-merror:0.01460\tvalidation_0-mlogloss:0.09486\tvalidation_1-merror:0.04220\tvalidation_1-mlogloss:0.16248\n",
      "[59]\tvalidation_0-merror:0.01418\tvalidation_0-mlogloss:0.09253\tvalidation_1-merror:0.04170\tvalidation_1-mlogloss:0.16032\n",
      "[60]\tvalidation_0-merror:0.01387\tvalidation_0-mlogloss:0.09013\tvalidation_1-merror:0.04180\tvalidation_1-mlogloss:0.15804\n",
      "[61]\tvalidation_0-merror:0.01347\tvalidation_0-mlogloss:0.08778\tvalidation_1-merror:0.04140\tvalidation_1-mlogloss:0.15601\n",
      "[62]\tvalidation_0-merror:0.01332\tvalidation_0-mlogloss:0.08551\tvalidation_1-merror:0.04110\tvalidation_1-mlogloss:0.15397\n",
      "[63]\tvalidation_0-merror:0.01290\tvalidation_0-mlogloss:0.08331\tvalidation_1-merror:0.04090\tvalidation_1-mlogloss:0.15187\n",
      "[64]\tvalidation_0-merror:0.01242\tvalidation_0-mlogloss:0.08124\tvalidation_1-merror:0.04080\tvalidation_1-mlogloss:0.14999\n",
      "[65]\tvalidation_0-merror:0.01205\tvalidation_0-mlogloss:0.07920\tvalidation_1-merror:0.04050\tvalidation_1-mlogloss:0.14805\n",
      "[66]\tvalidation_0-merror:0.01173\tvalidation_0-mlogloss:0.07712\tvalidation_1-merror:0.04050\tvalidation_1-mlogloss:0.14610\n"
     ]
    },
    {
     "name": "stdout",
     "output_type": "stream",
     "text": [
      "[67]\tvalidation_0-merror:0.01133\tvalidation_0-mlogloss:0.07514\tvalidation_1-merror:0.04020\tvalidation_1-mlogloss:0.14424\n",
      "[68]\tvalidation_0-merror:0.01098\tvalidation_0-mlogloss:0.07324\tvalidation_1-merror:0.03990\tvalidation_1-mlogloss:0.14237\n",
      "[69]\tvalidation_0-merror:0.01082\tvalidation_0-mlogloss:0.07151\tvalidation_1-merror:0.03890\tvalidation_1-mlogloss:0.14069\n",
      "[70]\tvalidation_0-merror:0.01035\tvalidation_0-mlogloss:0.06982\tvalidation_1-merror:0.03880\tvalidation_1-mlogloss:0.13917\n",
      "[71]\tvalidation_0-merror:0.01000\tvalidation_0-mlogloss:0.06816\tvalidation_1-merror:0.03870\tvalidation_1-mlogloss:0.13751\n",
      "[72]\tvalidation_0-merror:0.00987\tvalidation_0-mlogloss:0.06675\tvalidation_1-merror:0.03850\tvalidation_1-mlogloss:0.13615\n",
      "[73]\tvalidation_0-merror:0.00953\tvalidation_0-mlogloss:0.06495\tvalidation_1-merror:0.03830\tvalidation_1-mlogloss:0.13437\n",
      "[74]\tvalidation_0-merror:0.00938\tvalidation_0-mlogloss:0.06359\tvalidation_1-merror:0.03800\tvalidation_1-mlogloss:0.13301\n",
      "[75]\tvalidation_0-merror:0.00908\tvalidation_0-mlogloss:0.06193\tvalidation_1-merror:0.03810\tvalidation_1-mlogloss:0.13139\n",
      "[76]\tvalidation_0-merror:0.00867\tvalidation_0-mlogloss:0.06034\tvalidation_1-merror:0.03750\tvalidation_1-mlogloss:0.12996\n",
      "[77]\tvalidation_0-merror:0.00850\tvalidation_0-mlogloss:0.05875\tvalidation_1-merror:0.03680\tvalidation_1-mlogloss:0.12832\n",
      "[78]\tvalidation_0-merror:0.00810\tvalidation_0-mlogloss:0.05749\tvalidation_1-merror:0.03660\tvalidation_1-mlogloss:0.12713\n",
      "[79]\tvalidation_0-merror:0.00780\tvalidation_0-mlogloss:0.05618\tvalidation_1-merror:0.03590\tvalidation_1-mlogloss:0.12584\n",
      "[80]\tvalidation_0-merror:0.00758\tvalidation_0-mlogloss:0.05510\tvalidation_1-merror:0.03580\tvalidation_1-mlogloss:0.12486\n",
      "[81]\tvalidation_0-merror:0.00742\tvalidation_0-mlogloss:0.05386\tvalidation_1-merror:0.03540\tvalidation_1-mlogloss:0.12369\n",
      "[82]\tvalidation_0-merror:0.00708\tvalidation_0-mlogloss:0.05253\tvalidation_1-merror:0.03570\tvalidation_1-mlogloss:0.12237\n",
      "[83]\tvalidation_0-merror:0.00677\tvalidation_0-mlogloss:0.05121\tvalidation_1-merror:0.03510\tvalidation_1-mlogloss:0.12109\n",
      "[84]\tvalidation_0-merror:0.00658\tvalidation_0-mlogloss:0.04993\tvalidation_1-merror:0.03460\tvalidation_1-mlogloss:0.11993\n",
      "[85]\tvalidation_0-merror:0.00633\tvalidation_0-mlogloss:0.04888\tvalidation_1-merror:0.03450\tvalidation_1-mlogloss:0.11895\n",
      "[86]\tvalidation_0-merror:0.00620\tvalidation_0-mlogloss:0.04784\tvalidation_1-merror:0.03370\tvalidation_1-mlogloss:0.11792\n",
      "[87]\tvalidation_0-merror:0.00592\tvalidation_0-mlogloss:0.04672\tvalidation_1-merror:0.03400\tvalidation_1-mlogloss:0.11697\n",
      "[88]\tvalidation_0-merror:0.00577\tvalidation_0-mlogloss:0.04578\tvalidation_1-merror:0.03380\tvalidation_1-mlogloss:0.11623\n",
      "[89]\tvalidation_0-merror:0.00548\tvalidation_0-mlogloss:0.04486\tvalidation_1-merror:0.03360\tvalidation_1-mlogloss:0.11545\n",
      "[90]\tvalidation_0-merror:0.00535\tvalidation_0-mlogloss:0.04386\tvalidation_1-merror:0.03390\tvalidation_1-mlogloss:0.11458\n",
      "[91]\tvalidation_0-merror:0.00512\tvalidation_0-mlogloss:0.04285\tvalidation_1-merror:0.03340\tvalidation_1-mlogloss:0.11365\n",
      "[92]\tvalidation_0-merror:0.00498\tvalidation_0-mlogloss:0.04200\tvalidation_1-merror:0.03340\tvalidation_1-mlogloss:0.11305\n",
      "[93]\tvalidation_0-merror:0.00480\tvalidation_0-mlogloss:0.04102\tvalidation_1-merror:0.03350\tvalidation_1-mlogloss:0.11206\n",
      "[94]\tvalidation_0-merror:0.00460\tvalidation_0-mlogloss:0.04021\tvalidation_1-merror:0.03320\tvalidation_1-mlogloss:0.11123\n",
      "[95]\tvalidation_0-merror:0.00452\tvalidation_0-mlogloss:0.03942\tvalidation_1-merror:0.03340\tvalidation_1-mlogloss:0.11053\n",
      "[96]\tvalidation_0-merror:0.00437\tvalidation_0-mlogloss:0.03852\tvalidation_1-merror:0.03280\tvalidation_1-mlogloss:0.10965\n",
      "[97]\tvalidation_0-merror:0.00408\tvalidation_0-mlogloss:0.03773\tvalidation_1-merror:0.03270\tvalidation_1-mlogloss:0.10887\n",
      "[98]\tvalidation_0-merror:0.00397\tvalidation_0-mlogloss:0.03714\tvalidation_1-merror:0.03260\tvalidation_1-mlogloss:0.10827\n",
      "[99]\tvalidation_0-merror:0.00372\tvalidation_0-mlogloss:0.03622\tvalidation_1-merror:0.03230\tvalidation_1-mlogloss:0.10737\n",
      "Xgboost CPU FIT time = 715.723762 secs.\n"
     ]
    }
   ],
   "source": [
    "xgb_cpu = XGBClassifier(n_jobs = 4, learning_rate = 0.1, verbosity=1, booster='gbtree')\n",
    "\n",
    "\n",
    "t0 = time.time()\n",
    "xgb_cpu.fit(X_train, y_train, sample_weight=None,\n",
    "            base_margin=None,\n",
    "            eval_set=[(X_train, y_train), (X_test, y_test)],\n",
    "            eval_metric=[\"merror\", \"mlogloss\"],\n",
    "            early_stopping_rounds=10,\n",
    "            verbose=True,\n",
    "            xgb_model=None,\n",
    "            sample_weight_eval_set=None,\n",
    "            callbacks=None)\n",
    "t1 = time.time()\n",
    "xgb_cpu_t = (t1 - t0)\n",
    "\n",
    "print('Xgboost CPU FIT time = %f secs.' %(t1-t0))"
   ]
  },
  {
   "cell_type": "code",
   "execution_count": 5,
   "metadata": {},
   "outputs": [
    {
     "name": "stdout",
     "output_type": "stream",
     "text": [
      "Wall time: 438 ms\n"
     ]
    }
   ],
   "source": [
    "%%time\n",
    "y_pred_xg_cpu = xgb_cpu.predict(X_test)"
   ]
  },
  {
   "cell_type": "markdown",
   "metadata": {},
   "source": [
    "# Test Results"
   ]
  },
  {
   "cell_type": "code",
   "execution_count": 6,
   "metadata": {},
   "outputs": [
    {
     "name": "stdout",
     "output_type": "stream",
     "text": [
      "Mean Absolute Error : 11.82 %\n",
      "accuracy_score : 96.77 %\n",
      "f1_score : 96.7486829819 %\n",
      "precision_score : 96.7448076026 %\n",
      "recall_score : 96.7569882613 %\n",
      "Wall time: 28.9 ms\n"
     ]
    }
   ],
   "source": [
    "%%time\n",
    "print(\"Mean Absolute Error : \" + str(np.round((100*mean_absolute_error(y_pred_xg_cpu, y_test)),decimals=10, out=None))+' %')\n",
    "print(\"accuracy_score : \" + str(np.round((100*accuracy_score(y_pred_xg_cpu, y_test)),decimals=10, out=None))+' %')\n",
    "print(\"f1_score : \" + str(np.round((100*f1_score(y_pred_xg_cpu, y_test, average='macro')),decimals=10, out=None))+' %')\n",
    "print(\"precision_score : \" + str(np.round((100*precision_score(y_pred_xg_cpu, y_test, average='macro')),decimals=10, out=None))+' %')\n",
    "print(\"recall_score : \" + str(np.round((100*recall_score(y_pred_xg_cpu, y_test, average='macro')),decimals=10, out=None))+' %')\n"
   ]
  },
  {
   "cell_type": "markdown",
   "metadata": {},
   "source": [
    "# Plotting the Validation Losses"
   ]
  },
  {
   "cell_type": "code",
   "execution_count": 7,
   "metadata": {},
   "outputs": [],
   "source": [
    "infer = xgb_cpu.evals_result()"
   ]
  },
  {
   "cell_type": "markdown",
   "metadata": {},
   "source": [
    "#### Error"
   ]
  },
  {
   "cell_type": "code",
   "execution_count": 8,
   "metadata": {},
   "outputs": [
    {
     "data": {
      "image/png": "[encoded data removed]",
      "text/plain": [
       "<Figure size 700x300 with 1 Axes>"
      ]
     },
     "metadata": {},
     "output_type": "display_data"
    }
   ],
   "source": [
    "iter_len = len(infer['validation_0']['merror'])\n",
    "x_axis = np.linspace(0, iter_len, iter_len)\n",
    "plt.figure(figsize=(7,3),dpi=100)\n",
    "plt.title('Error')\n",
    "sns.scatterplot(x_axis, infer['validation_0']['merror'], label='Train Error')\n",
    "sns.scatterplot(x_axis, infer['validation_1']['merror'], label='Test Error')\n",
    "plt.legend()\n",
    "plt.show()"
   ]
  },
  {
   "cell_type": "markdown",
   "metadata": {},
   "source": [
    "#### Logloss"
   ]
  },
  {
   "cell_type": "code",
   "execution_count": 9,
   "metadata": {},
   "outputs": [
    {
     "data": {
      "image/png": "[encoded data removed]",
      "text/plain": [
       "<Figure size 700x300 with 1 Axes>"
      ]
     },
     "metadata": {},
     "output_type": "display_data"
    }
   ],
   "source": [
    "iter_len = len(infer['validation_0']['mlogloss'])\n",
    "x_axis = np.linspace(0, iter_len, iter_len)\n",
    "plt.figure(figsize=(7,3),dpi=100)\n",
    "plt.title('Logloss')\n",
    "sns.scatterplot(x_axis, infer['validation_0']['mlogloss'], label='Train Loss')\n",
    "sns.scatterplot(x_axis, infer['validation_1']['mlogloss'], label='Test Loss')\n",
    "plt.legend()\n",
    "plt.show()"
   ]
  },
  {
   "cell_type": "code",
   "execution_count": null,
   "metadata": {},
   "outputs": [],
   "source": []
  },
  {
   "cell_type": "markdown",
   "metadata": {},
   "source": [
    "# 2. Xgboost with GPU Support\n",
    "\n",
    "### **Here I will be using one  NVIDIA GTX 1080 ti** "
   ]
  },
  {
   "cell_type": "markdown",
   "metadata": {},
   "source": [
    "Build the model"
   ]
  },
  {
   "cell_type": "code",
   "execution_count": 10,
   "metadata": {},
   "outputs": [],
   "source": [
    "params = { 'max_depth':5, 'objective':'binary:logistic', 'subsample':0.8,'colsample_bytree':0.8, \n",
    "          'eta':0.5, 'min_child_weight':1, \"n_estimators\": 400, \n",
    "          'tree_method':'gpu_hist', 'predictor':'gpu_predictor', 'gpu_id':1 }\n",
    "\n",
    "\n",
    "xgb_gpu = XGBClassifier(**params)"
   ]
  },
  {
   "cell_type": "markdown",
   "metadata": {},
   "source": [
    "###  Fitting the model, using both training and testing sets for model validation"
   ]
  },
  {
   "cell_type": "code",
   "execution_count": 11,
   "metadata": {},
   "outputs": [
    {
     "name": "stdout",
     "output_type": "stream",
     "text": [
      "[0]\tvalidation_0-merror:0.16738\tvalidation_0-mlogloss:1.03762\tvalidation_1-merror:0.17450\tvalidation_1-mlogloss:1.05120\n",
      "Multiple eval metrics have been passed: 'validation_1-mlogloss' will be used for early stopping.\n",
      "\n",
      "Will train until validation_1-mlogloss hasn't improved in 10 rounds.\n",
      "[1]\tvalidation_0-merror:0.11762\tvalidation_0-mlogloss:0.75120\tvalidation_1-merror:0.13250\tvalidation_1-mlogloss:0.77231\n",
      "[2]\tvalidation_0-merror:0.09805\tvalidation_0-mlogloss:0.57904\tvalidation_1-merror:0.10950\tvalidation_1-mlogloss:0.60529\n",
      "[3]\tvalidation_0-merror:0.08217\tvalidation_0-mlogloss:0.45731\tvalidation_1-merror:0.09620\tvalidation_1-mlogloss:0.48801\n",
      "[4]\tvalidation_0-merror:0.07143\tvalidation_0-mlogloss:0.37063\tvalidation_1-merror:0.08750\tvalidation_1-mlogloss:0.40648\n",
      "[5]\tvalidation_0-merror:0.06340\tvalidation_0-mlogloss:0.31062\tvalidation_1-merror:0.08130\tvalidation_1-mlogloss:0.35056\n",
      "[6]\tvalidation_0-merror:0.05700\tvalidation_0-mlogloss:0.26496\tvalidation_1-merror:0.07530\tvalidation_1-mlogloss:0.30702\n",
      "[7]\tvalidation_0-merror:0.05087\tvalidation_0-mlogloss:0.23185\tvalidation_1-merror:0.07010\tvalidation_1-mlogloss:0.27639\n",
      "[8]\tvalidation_0-merror:0.04578\tvalidation_0-mlogloss:0.20311\tvalidation_1-merror:0.06520\tvalidation_1-mlogloss:0.25069\n",
      "[9]\tvalidation_0-merror:0.04080\tvalidation_0-mlogloss:0.17985\tvalidation_1-merror:0.06180\tvalidation_1-mlogloss:0.23047\n",
      "[10]\tvalidation_0-merror:0.03672\tvalidation_0-mlogloss:0.16005\tvalidation_1-merror:0.05720\tvalidation_1-mlogloss:0.21233\n",
      "[11]\tvalidation_0-merror:0.03370\tvalidation_0-mlogloss:0.14468\tvalidation_1-merror:0.05550\tvalidation_1-mlogloss:0.19909\n",
      "[12]\tvalidation_0-merror:0.03058\tvalidation_0-mlogloss:0.13102\tvalidation_1-merror:0.05350\tvalidation_1-mlogloss:0.18658\n",
      "[13]\tvalidation_0-merror:0.02775\tvalidation_0-mlogloss:0.11847\tvalidation_1-merror:0.05150\tvalidation_1-mlogloss:0.17601\n",
      "[14]\tvalidation_0-merror:0.02545\tvalidation_0-mlogloss:0.10937\tvalidation_1-merror:0.04870\tvalidation_1-mlogloss:0.16786\n",
      "[15]\tvalidation_0-merror:0.02270\tvalidation_0-mlogloss:0.10050\tvalidation_1-merror:0.04750\tvalidation_1-mlogloss:0.16099\n",
      "[16]\tvalidation_0-merror:0.02122\tvalidation_0-mlogloss:0.09320\tvalidation_1-merror:0.04520\tvalidation_1-mlogloss:0.15463\n",
      "[17]\tvalidation_0-merror:0.01925\tvalidation_0-mlogloss:0.08617\tvalidation_1-merror:0.04360\tvalidation_1-mlogloss:0.14859\n",
      "[18]\tvalidation_0-merror:0.01775\tvalidation_0-mlogloss:0.07979\tvalidation_1-merror:0.04180\tvalidation_1-mlogloss:0.14402\n",
      "[19]\tvalidation_0-merror:0.01618\tvalidation_0-mlogloss:0.07352\tvalidation_1-merror:0.04100\tvalidation_1-mlogloss:0.13832\n",
      "[20]\tvalidation_0-merror:0.01443\tvalidation_0-mlogloss:0.06776\tvalidation_1-merror:0.03950\tvalidation_1-mlogloss:0.13426\n",
      "[21]\tvalidation_0-merror:0.01318\tvalidation_0-mlogloss:0.06374\tvalidation_1-merror:0.03880\tvalidation_1-mlogloss:0.13170\n",
      "[22]\tvalidation_0-merror:0.01155\tvalidation_0-mlogloss:0.05897\tvalidation_1-merror:0.03740\tvalidation_1-mlogloss:0.12780\n",
      "[23]\tvalidation_0-merror:0.01030\tvalidation_0-mlogloss:0.05473\tvalidation_1-merror:0.03710\tvalidation_1-mlogloss:0.12444\n",
      "[24]\tvalidation_0-merror:0.00960\tvalidation_0-mlogloss:0.05134\tvalidation_1-merror:0.03690\tvalidation_1-mlogloss:0.12144\n",
      "[25]\tvalidation_0-merror:0.00855\tvalidation_0-mlogloss:0.04753\tvalidation_1-merror:0.03630\tvalidation_1-mlogloss:0.11869\n",
      "[26]\tvalidation_0-merror:0.00728\tvalidation_0-mlogloss:0.04402\tvalidation_1-merror:0.03600\tvalidation_1-mlogloss:0.11554\n",
      "[27]\tvalidation_0-merror:0.00660\tvalidation_0-mlogloss:0.04088\tvalidation_1-merror:0.03590\tvalidation_1-mlogloss:0.11323\n",
      "[28]\tvalidation_0-merror:0.00577\tvalidation_0-mlogloss:0.03825\tvalidation_1-merror:0.03520\tvalidation_1-mlogloss:0.11138\n",
      "[29]\tvalidation_0-merror:0.00502\tvalidation_0-mlogloss:0.03571\tvalidation_1-merror:0.03430\tvalidation_1-mlogloss:0.10961\n",
      "[30]\tvalidation_0-merror:0.00435\tvalidation_0-mlogloss:0.03280\tvalidation_1-merror:0.03400\tvalidation_1-mlogloss:0.10703\n",
      "[31]\tvalidation_0-merror:0.00388\tvalidation_0-mlogloss:0.03068\tvalidation_1-merror:0.03350\tvalidation_1-mlogloss:0.10570\n",
      "[32]\tvalidation_0-merror:0.00355\tvalidation_0-mlogloss:0.02864\tvalidation_1-merror:0.03300\tvalidation_1-mlogloss:0.10362\n",
      "[33]\tvalidation_0-merror:0.00322\tvalidation_0-mlogloss:0.02665\tvalidation_1-merror:0.03270\tvalidation_1-mlogloss:0.10211\n",
      "[34]\tvalidation_0-merror:0.00282\tvalidation_0-mlogloss:0.02500\tvalidation_1-merror:0.03190\tvalidation_1-mlogloss:0.10104\n",
      "[35]\tvalidation_0-merror:0.00225\tvalidation_0-mlogloss:0.02333\tvalidation_1-merror:0.03150\tvalidation_1-mlogloss:0.09964\n",
      "[36]\tvalidation_0-merror:0.00212\tvalidation_0-mlogloss:0.02194\tvalidation_1-merror:0.03010\tvalidation_1-mlogloss:0.09870\n",
      "[37]\tvalidation_0-merror:0.00160\tvalidation_0-mlogloss:0.02035\tvalidation_1-merror:0.02960\tvalidation_1-mlogloss:0.09731\n",
      "[38]\tvalidation_0-merror:0.00137\tvalidation_0-mlogloss:0.01906\tvalidation_1-merror:0.02900\tvalidation_1-mlogloss:0.09587\n",
      "[39]\tvalidation_0-merror:0.00118\tvalidation_0-mlogloss:0.01798\tvalidation_1-merror:0.02900\tvalidation_1-mlogloss:0.09506\n",
      "[40]\tvalidation_0-merror:0.00093\tvalidation_0-mlogloss:0.01680\tvalidation_1-merror:0.02930\tvalidation_1-mlogloss:0.09367\n",
      "[41]\tvalidation_0-merror:0.00080\tvalidation_0-mlogloss:0.01571\tvalidation_1-merror:0.02840\tvalidation_1-mlogloss:0.09255\n",
      "[42]\tvalidation_0-merror:0.00062\tvalidation_0-mlogloss:0.01468\tvalidation_1-merror:0.02880\tvalidation_1-mlogloss:0.09136\n",
      "[43]\tvalidation_0-merror:0.00057\tvalidation_0-mlogloss:0.01375\tvalidation_1-merror:0.02850\tvalidation_1-mlogloss:0.09058\n",
      "[44]\tvalidation_0-merror:0.00048\tvalidation_0-mlogloss:0.01294\tvalidation_1-merror:0.02840\tvalidation_1-mlogloss:0.08962\n",
      "[45]\tvalidation_0-merror:0.00037\tvalidation_0-mlogloss:0.01220\tvalidation_1-merror:0.02840\tvalidation_1-mlogloss:0.08861\n",
      "[46]\tvalidation_0-merror:0.00030\tvalidation_0-mlogloss:0.01155\tvalidation_1-merror:0.02820\tvalidation_1-mlogloss:0.08806\n",
      "[47]\tvalidation_0-merror:0.00027\tvalidation_0-mlogloss:0.01087\tvalidation_1-merror:0.02800\tvalidation_1-mlogloss:0.08756\n",
      "[48]\tvalidation_0-merror:0.00018\tvalidation_0-mlogloss:0.01016\tvalidation_1-merror:0.02750\tvalidation_1-mlogloss:0.08642\n",
      "[49]\tvalidation_0-merror:0.00010\tvalidation_0-mlogloss:0.00961\tvalidation_1-merror:0.02740\tvalidation_1-mlogloss:0.08584\n",
      "[50]\tvalidation_0-merror:0.00012\tvalidation_0-mlogloss:0.00908\tvalidation_1-merror:0.02690\tvalidation_1-mlogloss:0.08534\n",
      "[51]\tvalidation_0-merror:0.00008\tvalidation_0-mlogloss:0.00860\tvalidation_1-merror:0.02720\tvalidation_1-mlogloss:0.08462\n",
      "[52]\tvalidation_0-merror:0.00005\tvalidation_0-mlogloss:0.00819\tvalidation_1-merror:0.02730\tvalidation_1-mlogloss:0.08413\n",
      "[53]\tvalidation_0-merror:0.00005\tvalidation_0-mlogloss:0.00770\tvalidation_1-merror:0.02690\tvalidation_1-mlogloss:0.08348\n",
      "[54]\tvalidation_0-merror:0.00003\tvalidation_0-mlogloss:0.00732\tvalidation_1-merror:0.02670\tvalidation_1-mlogloss:0.08311\n",
      "[55]\tvalidation_0-merror:0.00003\tvalidation_0-mlogloss:0.00696\tvalidation_1-merror:0.02670\tvalidation_1-mlogloss:0.08256\n",
      "[56]\tvalidation_0-merror:0.00003\tvalidation_0-mlogloss:0.00658\tvalidation_1-merror:0.02630\tvalidation_1-mlogloss:0.08238\n",
      "[57]\tvalidation_0-merror:0.00002\tvalidation_0-mlogloss:0.00616\tvalidation_1-merror:0.02610\tvalidation_1-mlogloss:0.08184\n",
      "[58]\tvalidation_0-merror:0.00002\tvalidation_0-mlogloss:0.00586\tvalidation_1-merror:0.02620\tvalidation_1-mlogloss:0.08135\n",
      "[59]\tvalidation_0-merror:0.00002\tvalidation_0-mlogloss:0.00551\tvalidation_1-merror:0.02560\tvalidation_1-mlogloss:0.08086\n",
      "[60]\tvalidation_0-merror:0.00002\tvalidation_0-mlogloss:0.00521\tvalidation_1-merror:0.02560\tvalidation_1-mlogloss:0.08039\n",
      "[61]\tvalidation_0-merror:0.00002\tvalidation_0-mlogloss:0.00495\tvalidation_1-merror:0.02540\tvalidation_1-mlogloss:0.07980\n",
      "[62]\tvalidation_0-merror:0.00002\tvalidation_0-mlogloss:0.00471\tvalidation_1-merror:0.02500\tvalidation_1-mlogloss:0.07919\n",
      "[63]\tvalidation_0-merror:0.00000\tvalidation_0-mlogloss:0.00445\tvalidation_1-merror:0.02440\tvalidation_1-mlogloss:0.07884\n",
      "[64]\tvalidation_0-merror:0.00000\tvalidation_0-mlogloss:0.00425\tvalidation_1-merror:0.02480\tvalidation_1-mlogloss:0.07862\n",
      "[65]\tvalidation_0-merror:0.00000\tvalidation_0-mlogloss:0.00405\tvalidation_1-merror:0.02460\tvalidation_1-mlogloss:0.07859\n",
      "[66]\tvalidation_0-merror:0.00000\tvalidation_0-mlogloss:0.00384\tvalidation_1-merror:0.02470\tvalidation_1-mlogloss:0.07846\n"
     ]
    },
    {
     "name": "stdout",
     "output_type": "stream",
     "text": [
      "[67]\tvalidation_0-merror:0.00000\tvalidation_0-mlogloss:0.00370\tvalidation_1-merror:0.02500\tvalidation_1-mlogloss:0.07803\n",
      "[68]\tvalidation_0-merror:0.00000\tvalidation_0-mlogloss:0.00351\tvalidation_1-merror:0.02480\tvalidation_1-mlogloss:0.07768\n",
      "[69]\tvalidation_0-merror:0.00000\tvalidation_0-mlogloss:0.00338\tvalidation_1-merror:0.02500\tvalidation_1-mlogloss:0.07750\n",
      "[70]\tvalidation_0-merror:0.00000\tvalidation_0-mlogloss:0.00325\tvalidation_1-merror:0.02480\tvalidation_1-mlogloss:0.07719\n",
      "[71]\tvalidation_0-merror:0.00000\tvalidation_0-mlogloss:0.00313\tvalidation_1-merror:0.02450\tvalidation_1-mlogloss:0.07696\n",
      "[72]\tvalidation_0-merror:0.00000\tvalidation_0-mlogloss:0.00300\tvalidation_1-merror:0.02440\tvalidation_1-mlogloss:0.07687\n",
      "[73]\tvalidation_0-merror:0.00000\tvalidation_0-mlogloss:0.00290\tvalidation_1-merror:0.02460\tvalidation_1-mlogloss:0.07684\n",
      "[74]\tvalidation_0-merror:0.00000\tvalidation_0-mlogloss:0.00280\tvalidation_1-merror:0.02460\tvalidation_1-mlogloss:0.07653\n",
      "[75]\tvalidation_0-merror:0.00000\tvalidation_0-mlogloss:0.00270\tvalidation_1-merror:0.02450\tvalidation_1-mlogloss:0.07609\n",
      "[76]\tvalidation_0-merror:0.00000\tvalidation_0-mlogloss:0.00258\tvalidation_1-merror:0.02450\tvalidation_1-mlogloss:0.07583\n",
      "[77]\tvalidation_0-merror:0.00000\tvalidation_0-mlogloss:0.00249\tvalidation_1-merror:0.02450\tvalidation_1-mlogloss:0.07571\n",
      "[78]\tvalidation_0-merror:0.00000\tvalidation_0-mlogloss:0.00240\tvalidation_1-merror:0.02430\tvalidation_1-mlogloss:0.07544\n",
      "[79]\tvalidation_0-merror:0.00000\tvalidation_0-mlogloss:0.00232\tvalidation_1-merror:0.02440\tvalidation_1-mlogloss:0.07508\n",
      "[80]\tvalidation_0-merror:0.00000\tvalidation_0-mlogloss:0.00224\tvalidation_1-merror:0.02400\tvalidation_1-mlogloss:0.07476\n",
      "[81]\tvalidation_0-merror:0.00000\tvalidation_0-mlogloss:0.00216\tvalidation_1-merror:0.02370\tvalidation_1-mlogloss:0.07447\n",
      "[82]\tvalidation_0-merror:0.00000\tvalidation_0-mlogloss:0.00209\tvalidation_1-merror:0.02350\tvalidation_1-mlogloss:0.07440\n",
      "[83]\tvalidation_0-merror:0.00000\tvalidation_0-mlogloss:0.00203\tvalidation_1-merror:0.02330\tvalidation_1-mlogloss:0.07416\n",
      "[84]\tvalidation_0-merror:0.00000\tvalidation_0-mlogloss:0.00197\tvalidation_1-merror:0.02340\tvalidation_1-mlogloss:0.07403\n",
      "[85]\tvalidation_0-merror:0.00000\tvalidation_0-mlogloss:0.00190\tvalidation_1-merror:0.02370\tvalidation_1-mlogloss:0.07377\n",
      "[86]\tvalidation_0-merror:0.00000\tvalidation_0-mlogloss:0.00185\tvalidation_1-merror:0.02350\tvalidation_1-mlogloss:0.07357\n",
      "[87]\tvalidation_0-merror:0.00000\tvalidation_0-mlogloss:0.00180\tvalidation_1-merror:0.02330\tvalidation_1-mlogloss:0.07372\n",
      "[88]\tvalidation_0-merror:0.00000\tvalidation_0-mlogloss:0.00175\tvalidation_1-merror:0.02370\tvalidation_1-mlogloss:0.07366\n",
      "[89]\tvalidation_0-merror:0.00000\tvalidation_0-mlogloss:0.00170\tvalidation_1-merror:0.02340\tvalidation_1-mlogloss:0.07355\n",
      "[90]\tvalidation_0-merror:0.00000\tvalidation_0-mlogloss:0.00166\tvalidation_1-merror:0.02370\tvalidation_1-mlogloss:0.07352\n",
      "[91]\tvalidation_0-merror:0.00000\tvalidation_0-mlogloss:0.00161\tvalidation_1-merror:0.02360\tvalidation_1-mlogloss:0.07331\n",
      "[92]\tvalidation_0-merror:0.00000\tvalidation_0-mlogloss:0.00156\tvalidation_1-merror:0.02320\tvalidation_1-mlogloss:0.07295\n",
      "[93]\tvalidation_0-merror:0.00000\tvalidation_0-mlogloss:0.00152\tvalidation_1-merror:0.02350\tvalidation_1-mlogloss:0.07291\n",
      "[94]\tvalidation_0-merror:0.00000\tvalidation_0-mlogloss:0.00148\tvalidation_1-merror:0.02340\tvalidation_1-mlogloss:0.07295\n",
      "[95]\tvalidation_0-merror:0.00000\tvalidation_0-mlogloss:0.00145\tvalidation_1-merror:0.02350\tvalidation_1-mlogloss:0.07282\n",
      "[96]\tvalidation_0-merror:0.00000\tvalidation_0-mlogloss:0.00142\tvalidation_1-merror:0.02360\tvalidation_1-mlogloss:0.07276\n",
      "[97]\tvalidation_0-merror:0.00000\tvalidation_0-mlogloss:0.00138\tvalidation_1-merror:0.02330\tvalidation_1-mlogloss:0.07276\n",
      "[98]\tvalidation_0-merror:0.00000\tvalidation_0-mlogloss:0.00135\tvalidation_1-merror:0.02300\tvalidation_1-mlogloss:0.07273\n",
      "[99]\tvalidation_0-merror:0.00000\tvalidation_0-mlogloss:0.00132\tvalidation_1-merror:0.02310\tvalidation_1-mlogloss:0.07269\n",
      "[100]\tvalidation_0-merror:0.00000\tvalidation_0-mlogloss:0.00128\tvalidation_1-merror:0.02320\tvalidation_1-mlogloss:0.07263\n",
      "[101]\tvalidation_0-merror:0.00000\tvalidation_0-mlogloss:0.00125\tvalidation_1-merror:0.02330\tvalidation_1-mlogloss:0.07255\n",
      "[102]\tvalidation_0-merror:0.00000\tvalidation_0-mlogloss:0.00123\tvalidation_1-merror:0.02310\tvalidation_1-mlogloss:0.07259\n",
      "[103]\tvalidation_0-merror:0.00000\tvalidation_0-mlogloss:0.00120\tvalidation_1-merror:0.02320\tvalidation_1-mlogloss:0.07229\n",
      "[104]\tvalidation_0-merror:0.00000\tvalidation_0-mlogloss:0.00117\tvalidation_1-merror:0.02320\tvalidation_1-mlogloss:0.07229\n",
      "[105]\tvalidation_0-merror:0.00000\tvalidation_0-mlogloss:0.00115\tvalidation_1-merror:0.02310\tvalidation_1-mlogloss:0.07220\n",
      "[106]\tvalidation_0-merror:0.00000\tvalidation_0-mlogloss:0.00112\tvalidation_1-merror:0.02290\tvalidation_1-mlogloss:0.07210\n",
      "[107]\tvalidation_0-merror:0.00000\tvalidation_0-mlogloss:0.00110\tvalidation_1-merror:0.02250\tvalidation_1-mlogloss:0.07200\n",
      "[108]\tvalidation_0-merror:0.00000\tvalidation_0-mlogloss:0.00108\tvalidation_1-merror:0.02280\tvalidation_1-mlogloss:0.07197\n",
      "[109]\tvalidation_0-merror:0.00000\tvalidation_0-mlogloss:0.00106\tvalidation_1-merror:0.02250\tvalidation_1-mlogloss:0.07181\n",
      "[110]\tvalidation_0-merror:0.00000\tvalidation_0-mlogloss:0.00104\tvalidation_1-merror:0.02260\tvalidation_1-mlogloss:0.07164\n",
      "[111]\tvalidation_0-merror:0.00000\tvalidation_0-mlogloss:0.00102\tvalidation_1-merror:0.02300\tvalidation_1-mlogloss:0.07162\n",
      "[112]\tvalidation_0-merror:0.00000\tvalidation_0-mlogloss:0.00100\tvalidation_1-merror:0.02270\tvalidation_1-mlogloss:0.07158\n",
      "[113]\tvalidation_0-merror:0.00000\tvalidation_0-mlogloss:0.00098\tvalidation_1-merror:0.02270\tvalidation_1-mlogloss:0.07148\n",
      "[114]\tvalidation_0-merror:0.00000\tvalidation_0-mlogloss:0.00096\tvalidation_1-merror:0.02240\tvalidation_1-mlogloss:0.07157\n",
      "[115]\tvalidation_0-merror:0.00000\tvalidation_0-mlogloss:0.00094\tvalidation_1-merror:0.02250\tvalidation_1-mlogloss:0.07144\n",
      "[116]\tvalidation_0-merror:0.00000\tvalidation_0-mlogloss:0.00093\tvalidation_1-merror:0.02260\tvalidation_1-mlogloss:0.07148\n",
      "[117]\tvalidation_0-merror:0.00000\tvalidation_0-mlogloss:0.00091\tvalidation_1-merror:0.02250\tvalidation_1-mlogloss:0.07156\n",
      "[118]\tvalidation_0-merror:0.00000\tvalidation_0-mlogloss:0.00090\tvalidation_1-merror:0.02240\tvalidation_1-mlogloss:0.07152\n",
      "[119]\tvalidation_0-merror:0.00000\tvalidation_0-mlogloss:0.00088\tvalidation_1-merror:0.02260\tvalidation_1-mlogloss:0.07145\n",
      "[120]\tvalidation_0-merror:0.00000\tvalidation_0-mlogloss:0.00087\tvalidation_1-merror:0.02250\tvalidation_1-mlogloss:0.07144\n",
      "[121]\tvalidation_0-merror:0.00000\tvalidation_0-mlogloss:0.00085\tvalidation_1-merror:0.02260\tvalidation_1-mlogloss:0.07144\n",
      "[122]\tvalidation_0-merror:0.00000\tvalidation_0-mlogloss:0.00084\tvalidation_1-merror:0.02260\tvalidation_1-mlogloss:0.07136\n",
      "[123]\tvalidation_0-merror:0.00000\tvalidation_0-mlogloss:0.00083\tvalidation_1-merror:0.02230\tvalidation_1-mlogloss:0.07137\n",
      "[124]\tvalidation_0-merror:0.00000\tvalidation_0-mlogloss:0.00081\tvalidation_1-merror:0.02210\tvalidation_1-mlogloss:0.07120\n",
      "[125]\tvalidation_0-merror:0.00000\tvalidation_0-mlogloss:0.00080\tvalidation_1-merror:0.02220\tvalidation_1-mlogloss:0.07112\n",
      "[126]\tvalidation_0-merror:0.00000\tvalidation_0-mlogloss:0.00079\tvalidation_1-merror:0.02230\tvalidation_1-mlogloss:0.07108\n",
      "[127]\tvalidation_0-merror:0.00000\tvalidation_0-mlogloss:0.00078\tvalidation_1-merror:0.02190\tvalidation_1-mlogloss:0.07113\n",
      "[128]\tvalidation_0-merror:0.00000\tvalidation_0-mlogloss:0.00077\tvalidation_1-merror:0.02200\tvalidation_1-mlogloss:0.07115\n",
      "[129]\tvalidation_0-merror:0.00000\tvalidation_0-mlogloss:0.00076\tvalidation_1-merror:0.02200\tvalidation_1-mlogloss:0.07100\n",
      "[130]\tvalidation_0-merror:0.00000\tvalidation_0-mlogloss:0.00075\tvalidation_1-merror:0.02200\tvalidation_1-mlogloss:0.07097\n",
      "[131]\tvalidation_0-merror:0.00000\tvalidation_0-mlogloss:0.00073\tvalidation_1-merror:0.02200\tvalidation_1-mlogloss:0.07095\n",
      "[132]\tvalidation_0-merror:0.00000\tvalidation_0-mlogloss:0.00072\tvalidation_1-merror:0.02200\tvalidation_1-mlogloss:0.07091\n",
      "[133]\tvalidation_0-merror:0.00000\tvalidation_0-mlogloss:0.00072\tvalidation_1-merror:0.02200\tvalidation_1-mlogloss:0.07079\n",
      "[134]\tvalidation_0-merror:0.00000\tvalidation_0-mlogloss:0.00071\tvalidation_1-merror:0.02180\tvalidation_1-mlogloss:0.07086\n"
     ]
    },
    {
     "name": "stdout",
     "output_type": "stream",
     "text": [
      "[135]\tvalidation_0-merror:0.00000\tvalidation_0-mlogloss:0.00070\tvalidation_1-merror:0.02180\tvalidation_1-mlogloss:0.07087\n",
      "[136]\tvalidation_0-merror:0.00000\tvalidation_0-mlogloss:0.00069\tvalidation_1-merror:0.02190\tvalidation_1-mlogloss:0.07082\n",
      "[137]\tvalidation_0-merror:0.00000\tvalidation_0-mlogloss:0.00068\tvalidation_1-merror:0.02190\tvalidation_1-mlogloss:0.07079\n",
      "[138]\tvalidation_0-merror:0.00000\tvalidation_0-mlogloss:0.00067\tvalidation_1-merror:0.02200\tvalidation_1-mlogloss:0.07077\n",
      "[139]\tvalidation_0-merror:0.00000\tvalidation_0-mlogloss:0.00066\tvalidation_1-merror:0.02190\tvalidation_1-mlogloss:0.07076\n",
      "[140]\tvalidation_0-merror:0.00000\tvalidation_0-mlogloss:0.00065\tvalidation_1-merror:0.02180\tvalidation_1-mlogloss:0.07086\n",
      "[141]\tvalidation_0-merror:0.00000\tvalidation_0-mlogloss:0.00065\tvalidation_1-merror:0.02190\tvalidation_1-mlogloss:0.07085\n",
      "[142]\tvalidation_0-merror:0.00000\tvalidation_0-mlogloss:0.00064\tvalidation_1-merror:0.02200\tvalidation_1-mlogloss:0.07088\n",
      "[143]\tvalidation_0-merror:0.00000\tvalidation_0-mlogloss:0.00063\tvalidation_1-merror:0.02190\tvalidation_1-mlogloss:0.07091\n",
      "[144]\tvalidation_0-merror:0.00000\tvalidation_0-mlogloss:0.00063\tvalidation_1-merror:0.02190\tvalidation_1-mlogloss:0.07094\n",
      "[145]\tvalidation_0-merror:0.00000\tvalidation_0-mlogloss:0.00062\tvalidation_1-merror:0.02180\tvalidation_1-mlogloss:0.07104\n",
      "[146]\tvalidation_0-merror:0.00000\tvalidation_0-mlogloss:0.00061\tvalidation_1-merror:0.02180\tvalidation_1-mlogloss:0.07092\n",
      "[147]\tvalidation_0-merror:0.00000\tvalidation_0-mlogloss:0.00060\tvalidation_1-merror:0.02190\tvalidation_1-mlogloss:0.07106\n",
      "[148]\tvalidation_0-merror:0.00000\tvalidation_0-mlogloss:0.00060\tvalidation_1-merror:0.02210\tvalidation_1-mlogloss:0.07119\n",
      "[149]\tvalidation_0-merror:0.00000\tvalidation_0-mlogloss:0.00059\tvalidation_1-merror:0.02190\tvalidation_1-mlogloss:0.07105\n",
      "Stopping. Best iteration:\n",
      "[139]\tvalidation_0-merror:0.00000\tvalidation_0-mlogloss:0.00066\tvalidation_1-merror:0.02190\tvalidation_1-mlogloss:0.07076\n",
      "\n",
      "Xgboost GPU FIT time = 80.715255 secs.\n"
     ]
    }
   ],
   "source": [
    "t2 = time.time()\n",
    "xgb_gpu.fit(X_train, y_train, sample_weight=None,\n",
    "            base_margin=None,\n",
    "            eval_set=[(X_train, y_train), (X_test, y_test)],\n",
    "            eval_metric=[\"merror\", \"mlogloss\"],\n",
    "            early_stopping_rounds=10,\n",
    "            verbose=True,\n",
    "            xgb_model=None,\n",
    "            sample_weight_eval_set=None,\n",
    "            callbacks=None)\n",
    "\n",
    "t3 = time.time()\n",
    "xgb_gpu_t = (t3 - t2)\n",
    "\n",
    "print('Xgboost GPU FIT time = %f secs.' %(t3-t2))"
   ]
  },
  {
   "cell_type": "code",
   "execution_count": 12,
   "metadata": {},
   "outputs": [
    {
     "name": "stdout",
     "output_type": "stream",
     "text": [
      "Wall time: 809 ms\n"
     ]
    }
   ],
   "source": [
    "%%time\n",
    "y_pred_xg_gpu = xgb_gpu.predict(X_test)"
   ]
  },
  {
   "cell_type": "markdown",
   "metadata": {},
   "source": [
    "# Test Results"
   ]
  },
  {
   "cell_type": "code",
   "execution_count": 13,
   "metadata": {},
   "outputs": [
    {
     "name": "stdout",
     "output_type": "stream",
     "text": [
      "Mean Absolute Error : 8.36 %\n",
      "accuracy_score : 97.81 %\n",
      "f1_score : 97.7976 %\n",
      "precision_score : 97.79499 %\n",
      "recall_score : 97.80239 %\n",
      "Wall time: 22 ms\n"
     ]
    }
   ],
   "source": [
    "%%time\n",
    "print(\"Mean Absolute Error : \" + str(np.round((100*mean_absolute_error(y_pred_xg_gpu, y_test)),decimals=5, out=None))+' %')\n",
    "print(\"accuracy_score : \" + str(np.round((100*accuracy_score(y_pred_xg_gpu, y_test)),decimals=5, out=None))+' %')\n",
    "print(\"f1_score : \" + str(np.round((100*f1_score(y_pred_xg_gpu, y_test, average='macro')),decimals=5, out=None))+' %')\n",
    "print(\"precision_score : \" + str(np.round((100*precision_score(y_pred_xg_gpu, y_test, average='macro')),decimals=5, out=None))+' %')\n",
    "print(\"recall_score : \" + str(np.round((100*recall_score(y_pred_xg_gpu, y_test, average='macro')),decimals=5, out=None))+' %')\n"
   ]
  },
  {
   "cell_type": "markdown",
   "metadata": {},
   "source": [
    "# Plotting the Validation Losses"
   ]
  },
  {
   "cell_type": "code",
   "execution_count": 14,
   "metadata": {},
   "outputs": [],
   "source": [
    "infer = xgb_gpu.evals_result()"
   ]
  },
  {
   "cell_type": "markdown",
   "metadata": {},
   "source": [
    "#### Error"
   ]
  },
  {
   "cell_type": "code",
   "execution_count": 15,
   "metadata": {},
   "outputs": [
    {
     "data": {
      "image/png": "[encoded data removed]",
      "text/plain": [
       "<Figure size 700x300 with 1 Axes>"
      ]
     },
     "metadata": {},
     "output_type": "display_data"
    }
   ],
   "source": [
    "iter_len = len(infer['validation_0']['merror'])\n",
    "x_axis = np.linspace(0, iter_len, iter_len)\n",
    "plt.figure(figsize=(7,3),dpi=100)\n",
    "plt.title('Error')\n",
    "sns.scatterplot(x_axis, infer['validation_0']['merror'], label='Train Error')\n",
    "sns.scatterplot(x_axis, infer['validation_1']['merror'], label='Test Error')\n",
    "plt.legend()\n",
    "plt.show()"
   ]
  },
  {
   "cell_type": "markdown",
   "metadata": {},
   "source": [
    "#### Logloss"
   ]
  },
  {
   "cell_type": "code",
   "execution_count": 16,
   "metadata": {},
   "outputs": [
    {
     "data": {
      "image/png": "[encoded data removed]",
      "text/plain": [
       "<Figure size 700x300 with 1 Axes>"
      ]
     },
     "metadata": {},
     "output_type": "display_data"
    }
   ],
   "source": [
    "iter_len = len(infer['validation_0']['mlogloss'])\n",
    "x_axis = np.linspace(0, iter_len, iter_len)\n",
    "plt.figure(figsize=(7,3),dpi=100)\n",
    "plt.title('Logloss')\n",
    "sns.scatterplot(x_axis, infer['validation_0']['mlogloss'], label='Train Error')\n",
    "sns.scatterplot(x_axis, infer['validation_1']['mlogloss'], label='Test Error')\n",
    "plt.legend()\n",
    "plt.show()"
   ]
  },
  {
   "cell_type": "code",
   "execution_count": null,
   "metadata": {},
   "outputs": [],
   "source": []
  },
  {
   "cell_type": "markdown",
   "metadata": {},
   "source": [
    "# 3. Comparison with Random Forest"
   ]
  },
  {
   "cell_type": "markdown",
   "metadata": {},
   "source": [
    "### Random Forest Model \n",
    "(n_jobs = -1) uses all the 4 cores (8 threads) of the cpu"
   ]
  },
  {
   "cell_type": "code",
   "execution_count": 17,
   "metadata": {},
   "outputs": [],
   "source": [
    "rf = RandomForestClassifier(n_estimators=100,\n",
    "                            criterion='gini',\n",
    "                            max_depth=5,\n",
    "                            min_samples_split=2,\n",
    "                            min_samples_leaf=1,\n",
    "                            min_weight_fraction_leaf=0.0,\n",
    "                            max_features='auto',\n",
    "                            max_leaf_nodes=None,\n",
    "                            min_impurity_decrease=0.0,\n",
    "                            min_impurity_split=None,\n",
    "                            bootstrap=True,\n",
    "                            oob_score=False,\n",
    "                            n_jobs=-1,\n",
    "                            random_state=None,\n",
    "                            verbose=1,\n",
    "                            warm_start=False,\n",
    "                            class_weight=None,\n",
    "                            ccp_alpha=0.0,\n",
    "                            max_samples=None)"
   ]
  },
  {
   "cell_type": "code",
   "execution_count": 18,
   "metadata": {},
   "outputs": [
    {
     "name": "stderr",
     "output_type": "stream",
     "text": [
      "[Parallel(n_jobs=-1)]: Using backend ThreadingBackend with 8 concurrent workers.\n",
      "[Parallel(n_jobs=-1)]: Done  34 tasks      | elapsed:    2.3s\n"
     ]
    },
    {
     "name": "stdout",
     "output_type": "stream",
     "text": [
      "Random Forest FIT time = 6.724292 secs.\n"
     ]
    },
    {
     "name": "stderr",
     "output_type": "stream",
     "text": [
      "[Parallel(n_jobs=-1)]: Done 100 out of 100 | elapsed:    6.3s finished\n"
     ]
    }
   ],
   "source": [
    "t4 = time.time()\n",
    "rf.fit(X_train, y_train)\n",
    "t5 = time.time()\n",
    "rf_t = (t5 - t4)\n",
    "\n",
    "print('Random Forest FIT time = %f secs.' %(t5-t4))"
   ]
  },
  {
   "cell_type": "code",
   "execution_count": 19,
   "metadata": {},
   "outputs": [
    {
     "name": "stderr",
     "output_type": "stream",
     "text": [
      "[Parallel(n_jobs=8)]: Using backend ThreadingBackend with 8 concurrent workers.\n",
      "[Parallel(n_jobs=8)]: Done  34 tasks      | elapsed:    0.0s\n",
      "[Parallel(n_jobs=8)]: Done 100 out of 100 | elapsed:    0.0s finished\n"
     ]
    },
    {
     "name": "stdout",
     "output_type": "stream",
     "text": [
      "Wall time: 267 ms\n"
     ]
    }
   ],
   "source": [
    "%%time\n",
    "y_pred_rf = (rf.predict(X_test))"
   ]
  },
  {
   "cell_type": "markdown",
   "metadata": {},
   "source": [
    "# Test Results"
   ]
  },
  {
   "cell_type": "code",
   "execution_count": 20,
   "metadata": {},
   "outputs": [
    {
     "name": "stdout",
     "output_type": "stream",
     "text": [
      "Mean Absolute Error : 51.57 %\n",
      "accuracy_score : 85.98 %\n",
      "f1_score : 85.65927 %\n",
      "precision_score : 85.5948 %\n",
      "recall_score : 86.59872 %\n",
      "Wall time: 19 ms\n"
     ]
    }
   ],
   "source": [
    "%%time\n",
    "print(\"Mean Absolute Error : \" + str(np.round((100*mean_absolute_error(y_pred_rf, y_test)),decimals=5, out=None))+' %')\n",
    "print(\"accuracy_score : \" + str(np.round((100*accuracy_score(y_pred_rf, y_test)),decimals=5, out=None))+' %')\n",
    "print(\"f1_score : \" + str(np.round((100*f1_score(y_pred_rf, y_test, average='macro')),decimals=5, out=None))+' %')\n",
    "print(\"precision_score : \" + str(np.round((100*precision_score(y_pred_rf, y_test, average='macro')),decimals=5, out=None))+' %')\n",
    "print(\"recall_score : \" + str(np.round((100*recall_score(y_pred_rf, y_test, average='macro')),decimals=5, out=None))+' %')\n"
   ]
  },
  {
   "cell_type": "markdown",
   "metadata": {},
   "source": [
    "# Comapring Results"
   ]
  },
  {
   "cell_type": "code",
   "execution_count": 21,
   "metadata": {},
   "outputs": [],
   "source": [
    "index = ['Xgboost with CPU', 'Xgboost with GPU', 'Random Forest']\n",
    "\n",
    "columns = ['Model fit time (secs)','Mean_absolute_error', 'Accuracy_score', 'F1_score', 'Precision_score', 'Recall_score']\n",
    "df = pd.DataFrame(index=index, columns=columns)\n",
    "df = df.fillna(0)"
   ]
  },
  {
   "cell_type": "code",
   "execution_count": 22,
   "metadata": {},
   "outputs": [],
   "source": [
    "df['Model fit time (secs)'] = [xgb_cpu_t, xgb_gpu_t, rf_t]\n",
    "df['Mean_absolute_error'] = [100*mean_absolute_error(y_pred_xg_cpu, y_test),\n",
    "                             100*mean_absolute_error(y_pred_xg_gpu, y_test),\n",
    "                             100*mean_absolute_error(y_pred_rf, y_test)]\n",
    "\n",
    "df['Accuracy_score'] = [100*accuracy_score(y_pred_xg_cpu, y_test),\n",
    "                             100*accuracy_score(y_pred_xg_gpu, y_test),\n",
    "                             100*accuracy_score(y_pred_rf, y_test)]\n",
    "\n",
    "df['F1_score'] = [100*f1_score(y_pred_xg_cpu, y_test, average='macro'),\n",
    "                             100*f1_score(y_pred_xg_gpu, y_test, average='macro'),\n",
    "                             100*f1_score(y_pred_rf, y_test, average='macro')]\n",
    "\n",
    "df['Precision_score'] = [100*precision_score(y_pred_xg_cpu, y_test, average='macro'),\n",
    "                             100*precision_score(y_pred_xg_gpu, y_test, average='macro'),\n",
    "                             100*precision_score(y_pred_rf, y_test, average='macro')]\n",
    "\n",
    "df['Recall_score'] = [100*recall_score(y_pred_xg_cpu, y_test, average='macro'),\n",
    "                             100*recall_score(y_pred_xg_gpu, y_test, average='macro'),\n",
    "                             100*recall_score(y_pred_rf, y_test, average='macro')]"
   ]
  },
  {
   "cell_type": "code",
   "execution_count": 23,
   "metadata": {},
   "outputs": [
    {
     "data": {
      "text/html": [
       "<div>\n",
       "<style scoped>\n",
       "    .dataframe tbody tr th:only-of-type {\n",
       "        vertical-align: middle;\n",
       "    }\n",
       "\n",
       "    .dataframe tbody tr th {\n",
       "        vertical-align: top;\n",
       "    }\n",
       "\n",
       "    .dataframe thead th {\n",
       "        text-align: right;\n",
       "    }\n",
       "</style>\n",
       "<table border=\"1\" class=\"dataframe\">\n",
       "  <thead>\n",
       "    <tr style=\"text-align: right;\">\n",
       "      <th></th>\n",
       "      <th>Model fit time (secs)</th>\n",
       "      <th>Mean_absolute_error</th>\n",
       "      <th>Accuracy_score</th>\n",
       "      <th>F1_score</th>\n",
       "      <th>Precision_score</th>\n",
       "      <th>Recall_score</th>\n",
       "    </tr>\n",
       "  </thead>\n",
       "  <tbody>\n",
       "    <tr>\n",
       "      <th>Xgboost with CPU</th>\n",
       "      <td>715.723762</td>\n",
       "      <td>11.82</td>\n",
       "      <td>96.77</td>\n",
       "      <td>96.748683</td>\n",
       "      <td>96.744808</td>\n",
       "      <td>96.756988</td>\n",
       "    </tr>\n",
       "    <tr>\n",
       "      <th>Xgboost with GPU</th>\n",
       "      <td>80.715255</td>\n",
       "      <td>8.36</td>\n",
       "      <td>97.81</td>\n",
       "      <td>97.797602</td>\n",
       "      <td>97.794991</td>\n",
       "      <td>97.802394</td>\n",
       "    </tr>\n",
       "    <tr>\n",
       "      <th>Random Forest</th>\n",
       "      <td>6.724292</td>\n",
       "      <td>51.57</td>\n",
       "      <td>85.98</td>\n",
       "      <td>85.659274</td>\n",
       "      <td>85.594799</td>\n",
       "      <td>86.598721</td>\n",
       "    </tr>\n",
       "  </tbody>\n",
       "</table>\n",
       "</div>"
      ],
      "text/plain": [
       "                  Model fit time (secs)  Mean_absolute_error  Accuracy_score  \\\n",
       "Xgboost with CPU             715.723762                11.82           96.77   \n",
       "Xgboost with GPU              80.715255                 8.36           97.81   \n",
       "Random Forest                  6.724292                51.57           85.98   \n",
       "\n",
       "                   F1_score  Precision_score  Recall_score  \n",
       "Xgboost with CPU  96.748683        96.744808     96.756988  \n",
       "Xgboost with GPU  97.797602        97.794991     97.802394  \n",
       "Random Forest     85.659274        85.594799     86.598721  "
      ]
     },
     "execution_count": 23,
     "metadata": {},
     "output_type": "execute_result"
    }
   ],
   "source": [
    "df"
   ]
  },
  {
   "cell_type": "markdown",
   "metadata": {},
   "source": [
    "# Conclusion"
   ]
  },
  {
   "cell_type": "markdown",
   "metadata": {},
   "source": [
    "**Thus it can be seen that, Xgboost ran on the GPU gives the best test results and uses considerably less amount of time than its CPU's counterpart. On the other hand, Random forest though uses the least time but with the expense of huge losses.**"
   ]
  }
 ],
 "metadata": {
  "kernelspec": {
   "display_name": "Python 3",
   "language": "python",
   "name": "python3"
  },
  "language_info": {
   "codemirror_mode": {
    "name": "ipython",
    "version": 3
   },
   "file_extension": ".py",
   "mimetype": "text/x-python",
   "name": "python",
   "nbconvert_exporter": "python",
   "pygments_lexer": "ipython3",
   "version": "3.7.6"
  }
 },
 "nbformat": 4,
 "nbformat_minor": 4
}
