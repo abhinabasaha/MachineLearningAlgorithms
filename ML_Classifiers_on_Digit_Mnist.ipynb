{
  "nbformat": 4,
  "nbformat_minor": 0,
  "metadata": {
    "kernelspec": {
      "display_name": "Python 3",
      "language": "python",
      "name": "python3"
    },
    "language_info": {
      "codemirror_mode": {
        "name": "ipython",
        "version": 3
      },
      "file_extension": ".py",
      "mimetype": "text/x-python",
      "name": "python",
      "nbconvert_exporter": "python",
      "pygments_lexer": "ipython3",
      "version": "3.7.4"
    },
    "colab": {
      "name": "ML Classifiers on Digit Mnist.ipynb",
      "provenance": [],
      "collapsed_sections": [],
      "include_colab_link": true
    }
  },
  "cells": [
    {
      "cell_type": "markdown",
      "metadata": {
        "id": "view-in-github",
        "colab_type": "text"
      },
      "source": [
        "<a href=\"https://colab.research.google.com/github/abhinabasaha/MachineLearningAlgorithms/blob/master/ML_Classifiers_on_Digit_Mnist.ipynb\" target=\"_parent\"><img src=\"https://colab.research.google.com/assets/colab-badge.svg\" alt=\"Open In Colab\"/></a>"
      ]
    },
    {
      "cell_type": "code",
      "metadata": {
        "id": "coK0wluGyM2G",
        "colab_type": "code",
        "colab": {}
      },
      "source": [
        "import numpy as np\n",
        "import matplotlib.pyplot as plt\n",
        "import pandas as pd\n",
        "\n",
        "from sklearn.datasets import fetch_openml\n",
        "from sklearn.model_selection import train_test_split, cross_val_score\n",
        "from sklearn.metrics import accuracy_score\n"
      ],
      "execution_count": 0,
      "outputs": []
    },
    {
      "cell_type": "code",
      "metadata": {
        "id": "fUeqMapIyM2S",
        "colab_type": "code",
        "colab": {}
      },
      "source": [
        "mndata = fetch_openml('mnist_784')\n",
        "#mndata = MNIST('fashion-mnist/data/fashion')\n",
        "#train, train_labels = mndata.load_training()\n",
        "#test, test_labels = mndata.load_testing()\n",
        "train, test, train_labels, test_labels = train_test_split(mndata.data,\n",
        "                            mndata.target,\n",
        "                            stratify=mndata.target,\n",
        "                            random_state=42)\n",
        "\n",
        "#data = np.array(np.vstack([train, test]), dtype=np.float64) / 255.0\n",
        "#target = np.hstack([train_labels, test_labels])\n",
        "classes = [\n",
        "    'zero',\n",
        "    'one',\n",
        "    'two',\n",
        "    'three',\n",
        "    'four',\n",
        "    'five',\n",
        "    'six',\n",
        "    'Seven',\n",
        "    'eight',\n",
        "    'nine']\n"
      ],
      "execution_count": 0,
      "outputs": []
    },
    {
      "cell_type": "code",
      "metadata": {
        "id": "6SMMWRZ7yM2b",
        "colab_type": "code",
        "colab": {
          "base_uri": "https://localhost:8080/",
          "height": 36
        },
        "outputId": "1c42a763-76d1-41bf-ad2d-65cfa0c0b486"
      },
      "source": [
        "print(train.shape, test.shape, train_labels.shape, test_labels.shape)"
      ],
      "execution_count": 3,
      "outputs": [
        {
          "output_type": "stream",
          "text": [
            "(52500, 784) (17500, 784) (52500,) (17500,)\n"
          ],
          "name": "stdout"
        }
      ]
    },
    {
      "cell_type": "code",
      "metadata": {
        "id": "Ktu8iotjyM2j",
        "colab_type": "code",
        "colab": {}
      },
      "source": [
        "X_train =  train\n",
        "X_test = test\n",
        "y_train = train_labels\n",
        "y_test = test_labels"
      ],
      "execution_count": 0,
      "outputs": []
    },
    {
      "cell_type": "code",
      "metadata": {
        "id": "Rf-uAfmA0-dX",
        "colab_type": "code",
        "colab": {}
      },
      "source": [
        "from sklearn.preprocessing import StandardScaler\n",
        "sc = StandardScaler()\n",
        "X_train = sc.fit_transform(X_train)\n",
        "X_test = sc.transform(X_test)\n"
      ],
      "execution_count": 0,
      "outputs": []
    },
    {
      "cell_type": "markdown",
      "metadata": {
        "id": "acqhTTm1yM2q",
        "colab_type": "text"
      },
      "source": [
        "# Random Forest"
      ]
    },
    {
      "cell_type": "code",
      "metadata": {
        "id": "pFFlGQqiyM2t",
        "colab_type": "code",
        "colab": {
          "base_uri": "https://localhost:8080/",
          "height": 55
        },
        "outputId": "c10f98d3-668e-4f96-9458-7f68e3f5e19d"
      },
      "source": [
        "%%time\n",
        "from sklearn.ensemble import RandomForestClassifier\n",
        "classifier_randomforest = RandomForestClassifier(n_estimators = 10, criterion = 'entropy', random_state = 0)\n",
        "classifier_randomforest.fit(X_train, y_train)"
      ],
      "execution_count": 6,
      "outputs": [
        {
          "output_type": "stream",
          "text": [
            "CPU times: user 6.18 s, sys: 39 ms, total: 6.22 s\n",
            "Wall time: 6.23 s\n"
          ],
          "name": "stdout"
        }
      ]
    },
    {
      "cell_type": "code",
      "metadata": {
        "id": "75JvyF8oyM2z",
        "colab_type": "code",
        "colab": {
          "base_uri": "https://localhost:8080/",
          "height": 55
        },
        "outputId": "6f2f7c94-74fe-4534-8b00-f27250af9810"
      },
      "source": [
        "%%time\n",
        "y_pred_randomforest = classifier_randomforest.predict(X_test)"
      ],
      "execution_count": 7,
      "outputs": [
        {
          "output_type": "stream",
          "text": [
            "CPU times: user 109 ms, sys: 916 µs, total: 110 ms\n",
            "Wall time: 113 ms\n"
          ],
          "name": "stdout"
        }
      ]
    },
    {
      "cell_type": "code",
      "metadata": {
        "id": "h9scTtz1yM25",
        "colab_type": "code",
        "colab": {
          "base_uri": "https://localhost:8080/",
          "height": 36
        },
        "outputId": "1318e25e-94df-4015-cd26-10fabeb52d1c"
      },
      "source": [
        "print(accuracy_score( y_test , y_pred_randomforest ))"
      ],
      "execution_count": 8,
      "outputs": [
        {
          "output_type": "stream",
          "text": [
            "0.9458857142857143\n"
          ],
          "name": "stdout"
        }
      ]
    },
    {
      "cell_type": "code",
      "metadata": {
        "id": "3WYdn5E0yM2-",
        "colab_type": "code",
        "colab": {
          "base_uri": "https://localhost:8080/",
          "height": 75
        },
        "outputId": "984b1273-dc69-4885-a9b7-fdc76fa5a56c"
      },
      "source": [
        "%%time\n",
        "\n",
        "from sklearn.model_selection import cross_val_score\n",
        "accuracies = cross_val_score(estimator = classifier_randomforest, X = X_train, y = y_train, cv = 10)\n",
        "print(accuracies.mean(), accuracies.std() )\n"
      ],
      "execution_count": 9,
      "outputs": [
        {
          "output_type": "stream",
          "text": [
            "0.9468761904761905 0.0033073271229820496\n",
            "CPU times: user 54.1 s, sys: 98.3 ms, total: 54.2 s\n",
            "Wall time: 54.3 s\n"
          ],
          "name": "stdout"
        }
      ]
    },
    {
      "cell_type": "markdown",
      "metadata": {
        "id": "5alY0RozyM3E",
        "colab_type": "text"
      },
      "source": [
        "# Logistic Regression"
      ]
    },
    {
      "cell_type": "code",
      "metadata": {
        "id": "Y1I0-6jJyM3F",
        "colab_type": "code",
        "colab": {
          "base_uri": "https://localhost:8080/",
          "height": 209
        },
        "outputId": "77f016f7-23f6-4e0f-c81e-fa3202020583"
      },
      "source": [
        "%%time\n",
        "\n",
        "from sklearn.linear_model import LogisticRegression\n",
        "classifier_logistic = LogisticRegression(random_state = 0, max_iter=500)\n",
        "classifier_logistic.fit(X_train, y_train)"
      ],
      "execution_count": 10,
      "outputs": [
        {
          "output_type": "stream",
          "text": [
            "CPU times: user 4min 13s, sys: 29.9 s, total: 4min 43s\n",
            "Wall time: 2min 22s\n"
          ],
          "name": "stdout"
        },
        {
          "output_type": "stream",
          "text": [
            "/usr/local/lib/python3.6/dist-packages/sklearn/linear_model/_logistic.py:940: ConvergenceWarning: lbfgs failed to converge (status=1):\n",
            "STOP: TOTAL NO. of ITERATIONS REACHED LIMIT.\n",
            "\n",
            "Increase the number of iterations (max_iter) or scale the data as shown in:\n",
            "    https://scikit-learn.org/stable/modules/preprocessing.html\n",
            "Please also refer to the documentation for alternative solver options:\n",
            "    https://scikit-learn.org/stable/modules/linear_model.html#logistic-regression\n",
            "  extra_warning_msg=_LOGISTIC_SOLVER_CONVERGENCE_MSG)\n"
          ],
          "name": "stderr"
        }
      ]
    },
    {
      "cell_type": "code",
      "metadata": {
        "id": "Z54Ve5ekyM3N",
        "colab_type": "code",
        "colab": {
          "base_uri": "https://localhost:8080/",
          "height": 55
        },
        "outputId": "de6decc9-198d-4a1b-d19c-df0a24070def"
      },
      "source": [
        "%%time\n",
        "\n",
        "y_pred_logistic = classifier_logistic.predict(X_test)"
      ],
      "execution_count": 11,
      "outputs": [
        {
          "output_type": "stream",
          "text": [
            "CPU times: user 85.8 ms, sys: 11.9 ms, total: 97.7 ms\n",
            "Wall time: 56.6 ms\n"
          ],
          "name": "stdout"
        }
      ]
    },
    {
      "cell_type": "code",
      "metadata": {
        "id": "sNtKnTKyyM3S",
        "colab_type": "code",
        "colab": {
          "base_uri": "https://localhost:8080/",
          "height": 36
        },
        "outputId": "0e32bda4-b42e-41b8-974e-efd8b767b847"
      },
      "source": [
        "print(accuracy_score( y_test , y_pred_logistic ))"
      ],
      "execution_count": 12,
      "outputs": [
        {
          "output_type": "stream",
          "text": [
            "0.9133142857142857\n"
          ],
          "name": "stdout"
        }
      ]
    },
    {
      "cell_type": "markdown",
      "metadata": {
        "id": "lL69uOmSyM4J",
        "colab_type": "text"
      },
      "source": [
        "# Naive Bayes"
      ]
    },
    {
      "cell_type": "code",
      "metadata": {
        "id": "8PZB5QoqyM4L",
        "colab_type": "code",
        "colab": {
          "base_uri": "https://localhost:8080/",
          "height": 55
        },
        "outputId": "72fd26e4-2610-44e5-e478-43f9f39e1e55"
      },
      "source": [
        "%%time\n",
        "\n",
        "from sklearn.naive_bayes import GaussianNB\n",
        "classifier_naiveBayes = GaussianNB()\n",
        "classifier_naiveBayes.fit(X_train, y_train)\n",
        "\n",
        "\n",
        "y_pred_naiveBayes = classifier_naiveBayes.predict(X_test)"
      ],
      "execution_count": 13,
      "outputs": [
        {
          "output_type": "stream",
          "text": [
            "CPU times: user 1.33 s, sys: 62 ms, total: 1.4 s\n",
            "Wall time: 1.34 s\n"
          ],
          "name": "stdout"
        }
      ]
    },
    {
      "cell_type": "code",
      "metadata": {
        "id": "zXhbgEGcyM4S",
        "colab_type": "code",
        "colab": {
          "base_uri": "https://localhost:8080/",
          "height": 36
        },
        "outputId": "4fe37c51-340c-4d0c-d634-88124b9d34a9"
      },
      "source": [
        "print(accuracy_score( y_test , y_pred_naiveBayes ))"
      ],
      "execution_count": 14,
      "outputs": [
        {
          "output_type": "stream",
          "text": [
            "0.5227428571428572\n"
          ],
          "name": "stdout"
        }
      ]
    },
    {
      "cell_type": "markdown",
      "metadata": {
        "id": "VTCXBzZoyM4g",
        "colab_type": "text"
      },
      "source": [
        "# Xgboot"
      ]
    },
    {
      "cell_type": "code",
      "metadata": {
        "id": "UWI5NH-SyM4h",
        "colab_type": "code",
        "colab": {
          "base_uri": "https://localhost:8080/",
          "height": 55
        },
        "outputId": "80b0e030-df60-4fd6-8f45-f10062d1a489"
      },
      "source": [
        "%%time\n",
        "\n",
        "from xgboost import XGBClassifier\n",
        "classifier_xgboost = XGBClassifier()\n",
        "classifier_xgboost.fit(X_train, y_train)"
      ],
      "execution_count": 15,
      "outputs": [
        {
          "output_type": "stream",
          "text": [
            "CPU times: user 14min 20s, sys: 979 ms, total: 14min 21s\n",
            "Wall time: 14min 22s\n"
          ],
          "name": "stdout"
        }
      ]
    },
    {
      "cell_type": "code",
      "metadata": {
        "id": "qG_5LWNeyM4n",
        "colab_type": "code",
        "colab": {
          "base_uri": "https://localhost:8080/",
          "height": 55
        },
        "outputId": "6ce86837-84a4-47cb-805a-aa207ad22ebb"
      },
      "source": [
        "%%time\n",
        "\n",
        "y_pred_xgboost = classifier_xgboost.predict(X_test)"
      ],
      "execution_count": 16,
      "outputs": [
        {
          "output_type": "stream",
          "text": [
            "CPU times: user 1.4 s, sys: 3.97 ms, total: 1.41 s\n",
            "Wall time: 1.41 s\n"
          ],
          "name": "stdout"
        }
      ]
    },
    {
      "cell_type": "code",
      "metadata": {
        "id": "jVysVWKsyM4q",
        "colab_type": "code",
        "colab": {
          "base_uri": "https://localhost:8080/",
          "height": 36
        },
        "outputId": "6199ae6c-3de3-43eb-e672-bbbad584f7d8"
      },
      "source": [
        "print(accuracy_score( y_test , y_pred_xgboost ))"
      ],
      "execution_count": 17,
      "outputs": [
        {
          "output_type": "stream",
          "text": [
            "0.9297142857142857\n"
          ],
          "name": "stdout"
        }
      ]
    },
    {
      "cell_type": "markdown",
      "metadata": {
        "id": "d6ho4lmPyM3X",
        "colab_type": "text"
      },
      "source": [
        "# KNN"
      ]
    },
    {
      "cell_type": "code",
      "metadata": {
        "id": "g5VLXSwGyM3a",
        "colab_type": "code",
        "colab": {
          "base_uri": "https://localhost:8080/",
          "height": 55
        },
        "outputId": "019c613c-4885-43a5-ab4f-1629c2377e8b"
      },
      "source": [
        "%%time\n",
        "\n",
        "from sklearn.neighbors import KNeighborsClassifier\n",
        "classifier_KNN = KNeighborsClassifier(n_neighbors = 5, metric = 'minkowski', p = 2, n_jobs=-1)\n",
        "classifier_KNN.fit(X_train, y_train)"
      ],
      "execution_count": 18,
      "outputs": [
        {
          "output_type": "stream",
          "text": [
            "CPU times: user 12.6 s, sys: 33.3 ms, total: 12.6 s\n",
            "Wall time: 12.6 s\n"
          ],
          "name": "stdout"
        }
      ]
    },
    {
      "cell_type": "code",
      "metadata": {
        "id": "TA2iKCIzyM3h",
        "colab_type": "code",
        "colab": {
          "base_uri": "https://localhost:8080/",
          "height": 55
        },
        "outputId": "620f2c66-7c59-434c-e823-d2edbdf0334d"
      },
      "source": [
        "%%time\n",
        "\n",
        "y_pred_KNN = classifier_KNN.predict(X_test)"
      ],
      "execution_count": 19,
      "outputs": [
        {
          "output_type": "stream",
          "text": [
            "CPU times: user 32min 1s, sys: 354 ms, total: 32min 1s\n",
            "Wall time: 16min 5s\n"
          ],
          "name": "stdout"
        }
      ]
    },
    {
      "cell_type": "code",
      "metadata": {
        "id": "g0yhWT9myM3l",
        "colab_type": "code",
        "colab": {
          "base_uri": "https://localhost:8080/",
          "height": 36
        },
        "outputId": "90c61dad-bd68-48c2-d94a-5796b5d6753d"
      },
      "source": [
        "print(accuracy_score( y_test , y_pred_KNN ))"
      ],
      "execution_count": 20,
      "outputs": [
        {
          "output_type": "stream",
          "text": [
            "0.9434285714285714\n"
          ],
          "name": "stdout"
        }
      ]
    },
    {
      "cell_type": "markdown",
      "metadata": {
        "id": "S5M5HfDvyM3r",
        "colab_type": "text"
      },
      "source": [
        "# SVM"
      ]
    },
    {
      "cell_type": "code",
      "metadata": {
        "id": "h1tnrW5iyM3t",
        "colab_type": "code",
        "colab": {
          "base_uri": "https://localhost:8080/",
          "height": 55
        },
        "outputId": "6546deb7-cc3e-4946-ecbb-6f327ca2b0df"
      },
      "source": [
        "%%time\n",
        "\n",
        "from sklearn.svm import SVC\n",
        "classifier_linearSVM = SVC(kernel = 'linear', random_state = 0)    #linear kernel\n",
        "classifier_linearSVM.fit(X_train, y_train)"
      ],
      "execution_count": 21,
      "outputs": [
        {
          "output_type": "stream",
          "text": [
            "CPU times: user 9min 47s, sys: 151 ms, total: 9min 47s\n",
            "Wall time: 9min 48s\n"
          ],
          "name": "stdout"
        }
      ]
    },
    {
      "cell_type": "code",
      "metadata": {
        "id": "FGkqoXaTyM3x",
        "colab_type": "code",
        "colab": {
          "base_uri": "https://localhost:8080/",
          "height": 55
        },
        "outputId": "955956a5-3c3e-4bf4-fa07-e28b351a9c0f"
      },
      "source": [
        "%%time\n",
        "\n",
        "from sklearn.svm import SVC\n",
        "classifier_polynomialSVM = SVC(kernel = 'poly', random_state = 0)  #polynomial kernel\n",
        "classifier_polynomialSVM.fit(X_train, y_train)"
      ],
      "execution_count": 22,
      "outputs": [
        {
          "output_type": "stream",
          "text": [
            "CPU times: user 25min 41s, sys: 572 ms, total: 25min 41s\n",
            "Wall time: 25min 43s\n"
          ],
          "name": "stdout"
        }
      ]
    },
    {
      "cell_type": "code",
      "metadata": {
        "id": "TXzMk6gayM33",
        "colab_type": "code",
        "colab": {
          "base_uri": "https://localhost:8080/",
          "height": 55
        },
        "outputId": "07508c79-3a10-495d-84cc-0666985f7b94"
      },
      "source": [
        "%%time\n",
        "\n",
        "from sklearn.svm import SVC\n",
        "classifier_rbfSVM = SVC(kernel = 'rbf', random_state = 0)  #RBF Kernel\n",
        "classifier_rbfSVM.fit(X_train, y_train)"
      ],
      "execution_count": 23,
      "outputs": [
        {
          "output_type": "stream",
          "text": [
            "CPU times: user 12min 41s, sys: 171 ms, total: 12min 41s\n",
            "Wall time: 12min 42s\n"
          ],
          "name": "stdout"
        }
      ]
    },
    {
      "cell_type": "code",
      "metadata": {
        "id": "gvWVRfB1yM3-",
        "colab_type": "code",
        "colab": {
          "base_uri": "https://localhost:8080/",
          "height": 55
        },
        "outputId": "bfca3e8d-6f0d-42aa-da37-41b6c544594a"
      },
      "source": [
        "%%time\n",
        "\n",
        "y_pred_linearSVM = classifier_linearSVM.predict(X_test)\n",
        "y_pred_polynomialSVM = classifier_polynomialSVM.predict(X_test)\n",
        "y_pred_rbfSVM = classifier_rbfSVM.predict(X_test)"
      ],
      "execution_count": 24,
      "outputs": [
        {
          "output_type": "stream",
          "text": [
            "CPU times: user 16min 45s, sys: 92.2 ms, total: 16min 45s\n",
            "Wall time: 16min 46s\n"
          ],
          "name": "stdout"
        }
      ]
    },
    {
      "cell_type": "code",
      "metadata": {
        "id": "oJDDf670yM4E",
        "colab_type": "code",
        "colab": {
          "base_uri": "https://localhost:8080/",
          "height": 75
        },
        "outputId": "c2bff2ab-1d0e-4381-91dc-f3fa0fd91179"
      },
      "source": [
        "print(accuracy_score( y_test , y_pred_linearSVM ))\n",
        "print(accuracy_score( y_test , y_pred_polynomialSVM ))\n",
        "print(accuracy_score( y_test , y_pred_rbfSVM ))"
      ],
      "execution_count": 25,
      "outputs": [
        {
          "output_type": "stream",
          "text": [
            "0.9225714285714286\n",
            "0.9579428571428571\n",
            "0.9629714285714286\n"
          ],
          "name": "stdout"
        }
      ]
    },
    {
      "cell_type": "code",
      "metadata": {
        "id": "_LpeLlSYyM4t",
        "colab_type": "code",
        "colab": {}
      },
      "source": [
        ""
      ],
      "execution_count": 0,
      "outputs": []
    }
  ]
}